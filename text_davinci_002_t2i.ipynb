{
  "nbformat": 4,
  "nbformat_minor": 0,
  "metadata": {
    "colab": {
      "provenance": []
    },
    "kernelspec": {
      "name": "python3",
      "display_name": "Python 3"
    },
    "language_info": {
      "name": "python"
    },
    "accelerator": "GPU",
    "gpuClass": "standard"
  },
  "cells": [
    {
      "cell_type": "markdown",
      "source": [
        "# OPEN API"
      ],
      "metadata": {
        "id": "DZQzQvRs9EhH"
      }
    },
    {
      "cell_type": "code",
      "source": [
        "!pip install openai"
      ],
      "metadata": {
        "colab": {
          "base_uri": "https://localhost:8080/"
        },
        "id": "LtkKdtfO9CwS",
        "outputId": "17120b32-fd4e-4171-a600-d5e120ec38f1"
      },
      "execution_count": null,
      "outputs": [
        {
          "output_type": "stream",
          "name": "stdout",
          "text": [
            "Looking in indexes: https://pypi.org/simple, https://us-python.pkg.dev/colab-wheels/public/simple/\n",
            "Requirement already satisfied: openai in /usr/local/lib/python3.8/dist-packages (0.25.0)\n",
            "Requirement already satisfied: numpy in /usr/local/lib/python3.8/dist-packages (from openai) (1.21.6)\n",
            "Requirement already satisfied: typing-extensions in /usr/local/lib/python3.8/dist-packages (from openai) (4.4.0)\n",
            "Requirement already satisfied: openpyxl>=3.0.7 in /usr/local/lib/python3.8/dist-packages (from openai) (3.0.10)\n",
            "Requirement already satisfied: requests>=2.20 in /usr/local/lib/python3.8/dist-packages (from openai) (2.23.0)\n",
            "Requirement already satisfied: pandas-stubs>=1.1.0.11 in /usr/local/lib/python3.8/dist-packages (from openai) (1.5.2.221124)\n",
            "Requirement already satisfied: tqdm in /usr/local/lib/python3.8/dist-packages (from openai) (4.64.1)\n",
            "Requirement already satisfied: pandas>=1.2.3 in /usr/local/lib/python3.8/dist-packages (from openai) (1.3.5)\n",
            "Requirement already satisfied: et-xmlfile in /usr/local/lib/python3.8/dist-packages (from openpyxl>=3.0.7->openai) (1.1.0)\n",
            "Requirement already satisfied: pytz>=2017.3 in /usr/local/lib/python3.8/dist-packages (from pandas>=1.2.3->openai) (2022.6)\n",
            "Requirement already satisfied: python-dateutil>=2.7.3 in /usr/local/lib/python3.8/dist-packages (from pandas>=1.2.3->openai) (2.8.2)\n",
            "Requirement already satisfied: types-pytz>=2022.1.1 in /usr/local/lib/python3.8/dist-packages (from pandas-stubs>=1.1.0.11->openai) (2022.6.0.1)\n",
            "Requirement already satisfied: six>=1.5 in /usr/local/lib/python3.8/dist-packages (from python-dateutil>=2.7.3->pandas>=1.2.3->openai) (1.15.0)\n",
            "Requirement already satisfied: chardet<4,>=3.0.2 in /usr/local/lib/python3.8/dist-packages (from requests>=2.20->openai) (3.0.4)\n",
            "Requirement already satisfied: certifi>=2017.4.17 in /usr/local/lib/python3.8/dist-packages (from requests>=2.20->openai) (2022.9.24)\n",
            "Requirement already satisfied: idna<3,>=2.5 in /usr/local/lib/python3.8/dist-packages (from requests>=2.20->openai) (2.10)\n",
            "Requirement already satisfied: urllib3!=1.25.0,!=1.25.1,<1.26,>=1.21.1 in /usr/local/lib/python3.8/dist-packages (from requests>=2.20->openai) (1.24.3)\n"
          ]
        }
      ]
    },
    {
      "cell_type": "code",
      "execution_count": null,
      "metadata": {
        "id": "ads7fUE07hFP"
      },
      "outputs": [],
      "source": [
        "OPENAPI_KEY = '' # Input your APIKey\n",
        "USE_ENGINE = 'text-davinci-002'\n",
        "# USE_ENGINE = 'text-davinci-003'"
      ]
    },
    {
      "cell_type": "code",
      "source": [
        "import openai"
      ],
      "metadata": {
        "id": "ekgZqsUw838Y"
      },
      "execution_count": null,
      "outputs": []
    },
    {
      "cell_type": "code",
      "source": [
        "class AIChat:\n",
        "  def __init__(self):\n",
        "    openai.api_key = OPENAPI_KEY\n",
        "\n",
        "  def response(self, user_input):\n",
        "    response = openai.Completion.create(\n",
        "        engine=USE_ENGINE,\n",
        "        prompt=user_input,\n",
        "        max_tokens=1024,\n",
        "        temperature=0.5\n",
        "    )\n",
        "\n",
        "    # 応答のテキスト部分を取得して返す\n",
        "    return response['choices'][0]['text']"
      ],
      "metadata": {
        "id": "p46jKWyE9c3A"
      },
      "execution_count": null,
      "outputs": []
    },
    {
      "cell_type": "code",
      "source": [
        "def main():\n",
        "  chatai = AIChat()\n",
        "\n",
        "  print('>> Hello I\\'m ChatAI\\'')\n",
        "  print('>> if input [q] is quit')\n",
        "\n",
        "  while True:\n",
        "    user_input = input('>> User: ')\n",
        "    # user_input = 'How to install Python'\n",
        "\n",
        "    if user_input == 'q':\n",
        "      break\n",
        "\n",
        "    # Get response fot ChatAI\n",
        "    response = chatai.response(user_input)\n",
        "    print(f'>> AIChat: {response}')\n",
        "    print('\\n')\n",
        "  print('>> AIChat: GoodBye')"
      ],
      "metadata": {
        "id": "sL0Ull5U-zas"
      },
      "execution_count": null,
      "outputs": []
    },
    {
      "cell_type": "code",
      "source": [
        "if __name__ == '__main__':\n",
        "  main()"
      ],
      "metadata": {
        "colab": {
          "base_uri": "https://localhost:8080/",
          "height": 1000
        },
        "id": "SCOfE9EyAXF4",
        "outputId": "4aab1e56-b4bc-4b92-ce8d-a9ef7445d4bf"
      },
      "execution_count": null,
      "outputs": [
        {
          "output_type": "stream",
          "name": "stdout",
          "text": [
            ">> Hello I'm ChatAI'\n",
            ">> if input [q] is quit\n",
            ">> User: アルコホリック・アノニマスについて教えて\n",
            ">> AIChat: ください\n",
            "\n",
            "アルコホリック・アノニマスとは、参加者が身元を隠して参加する、匿名性の高い取引を可能にする技術です。アルコホリック・アノニマスは、参加者が他人に自身の情報を提供しないようにすることを目的としています。アルコホリック・アノニマスは、参加者が取引を行う際に、身元を隠すために使用される技術です。アルコホリック・アノニマスは、参加者が取引を行う際に、参加者の身元を隠すことができるようにするために開発されました。アルコホリック・アノニマスは、参加者が取引を行う際に、身元を隠すことができるようにするために、暗号技術を使用しています。\n",
            "\n",
            "\n",
            ">> User: Nim言語をインストールするにはどうすればいい＞\n",
            ">> AIChat: \n",
            "\n",
            "Nim言語をインストールするには、以下の3つの方法があります。\n",
            "\n",
            "1. Nimを入手する\n",
            "Nimを入手するには、公式サイトからソースコードをダウンロードしてコンパイルするか、GitHubリポジトリからソースコードを取得することができます。\n",
            "\n",
            "2. Nimをインストールする\n",
            "Nimをインストールするには、Windows、macOS、Linuxの各プラットフォーム用のパッケージを使用するか、Homebrewを使用してNimをインストールすることができます。\n",
            "\n",
            "3. Nimを使用する\n",
            "Nimを使用するには、コマンドラインからNimを起動するか、Nimプロジェクトを作成してコードを書いてコンパイルする必要があります。\n",
            "\n",
            "\n",
            ">> User: Nim言語でフィボナッチ数列を書いて\n",
            ">> AIChat: みよう\n",
            "\n",
            "# フィボナッチ数列を出力するプログラム\n",
            "\n",
            "let mut prev1 = 0\n",
            "let mut prev2 = 1\n",
            "let mut fib = 0\n",
            "\n",
            "echo prev1\n",
            "echo prev2\n",
            "\n",
            "while fib < 100:\n",
            "    fib = prev1 + prev2\n",
            "    echo fib\n",
            "    prev1 = prev2\n",
            "    prev2 = fib\n",
            "\n",
            "# 出力結果\n",
            "# 0\n",
            "# 1\n",
            "# 1\n",
            "# 2\n",
            "# 3\n",
            "# 5\n",
            "# 8\n",
            "# 13\n",
            "# 21\n",
            "# 34\n",
            "# 55\n",
            "# 89\n",
            "\n",
            "\n",
            ">> User: Nim言語で素数を出力して見よう\n",
            ">> AIChat: \n",
            "\n",
            "procedure 素数を出力するプログラム\n",
            "  var i, j, k: integer\n",
            "  for i := 2 to 100 do\n",
            "    k := 0\n",
            "    for j := 2 to i do\n",
            "      if i mod j = 0 then\n",
            "        k := k + 1\n",
            "      end if\n",
            "    end for\n",
            "    if k = 1 then\n",
            "      write i\n",
            "    end if\n",
            "  end for\n",
            "end 素数を出力するプログラム\n",
            "\n",
            "実行結果\n",
            "2 3 5 7 11 13 17 19 23 29 31 37 41 43 47 53 59 61 67 71 73 79 83 89 97\n",
            "\n",
            "\n"
          ]
        },
        {
          "output_type": "error",
          "ename": "KeyboardInterrupt",
          "evalue": "ignored",
          "traceback": [
            "\u001b[0;31m---------------------------------------------------------------------------\u001b[0m",
            "\u001b[0;31mKeyboardInterrupt\u001b[0m                         Traceback (most recent call last)",
            "\u001b[0;32m<ipython-input-13-174f78df48e2>\u001b[0m in \u001b[0;36m<module>\u001b[0;34m\u001b[0m\n\u001b[1;32m      1\u001b[0m \u001b[0;32mif\u001b[0m \u001b[0m__name__\u001b[0m \u001b[0;34m==\u001b[0m \u001b[0;34m'__main__'\u001b[0m\u001b[0;34m:\u001b[0m\u001b[0;34m\u001b[0m\u001b[0;34m\u001b[0m\u001b[0m\n\u001b[0;32m----> 2\u001b[0;31m   \u001b[0mmain\u001b[0m\u001b[0;34m(\u001b[0m\u001b[0;34m)\u001b[0m\u001b[0;34m\u001b[0m\u001b[0;34m\u001b[0m\u001b[0m\n\u001b[0m",
            "\u001b[0;32m<ipython-input-12-57a1bb0bce62>\u001b[0m in \u001b[0;36mmain\u001b[0;34m()\u001b[0m\n\u001b[1;32m      6\u001b[0m \u001b[0;34m\u001b[0m\u001b[0m\n\u001b[1;32m      7\u001b[0m   \u001b[0;32mwhile\u001b[0m \u001b[0;32mTrue\u001b[0m\u001b[0;34m:\u001b[0m\u001b[0;34m\u001b[0m\u001b[0;34m\u001b[0m\u001b[0m\n\u001b[0;32m----> 8\u001b[0;31m     \u001b[0muser_input\u001b[0m \u001b[0;34m=\u001b[0m \u001b[0minput\u001b[0m\u001b[0;34m(\u001b[0m\u001b[0;34m'>> User: '\u001b[0m\u001b[0;34m)\u001b[0m\u001b[0;34m\u001b[0m\u001b[0;34m\u001b[0m\u001b[0m\n\u001b[0m\u001b[1;32m      9\u001b[0m     \u001b[0;31m# user_input = 'How to install Python'\u001b[0m\u001b[0;34m\u001b[0m\u001b[0;34m\u001b[0m\u001b[0;34m\u001b[0m\u001b[0m\n\u001b[1;32m     10\u001b[0m \u001b[0;34m\u001b[0m\u001b[0m\n",
            "\u001b[0;32m/usr/local/lib/python3.8/dist-packages/ipykernel/kernelbase.py\u001b[0m in \u001b[0;36mraw_input\u001b[0;34m(self, prompt)\u001b[0m\n\u001b[1;32m    858\u001b[0m                 \u001b[0;34m\"raw_input was called, but this frontend does not support input requests.\"\u001b[0m\u001b[0;34m\u001b[0m\u001b[0;34m\u001b[0m\u001b[0m\n\u001b[1;32m    859\u001b[0m             )\n\u001b[0;32m--> 860\u001b[0;31m         return self._input_request(str(prompt),\n\u001b[0m\u001b[1;32m    861\u001b[0m             \u001b[0mself\u001b[0m\u001b[0;34m.\u001b[0m\u001b[0m_parent_ident\u001b[0m\u001b[0;34m,\u001b[0m\u001b[0;34m\u001b[0m\u001b[0;34m\u001b[0m\u001b[0m\n\u001b[1;32m    862\u001b[0m             \u001b[0mself\u001b[0m\u001b[0;34m.\u001b[0m\u001b[0m_parent_header\u001b[0m\u001b[0;34m,\u001b[0m\u001b[0;34m\u001b[0m\u001b[0;34m\u001b[0m\u001b[0m\n",
            "\u001b[0;32m/usr/local/lib/python3.8/dist-packages/ipykernel/kernelbase.py\u001b[0m in \u001b[0;36m_input_request\u001b[0;34m(self, prompt, ident, parent, password)\u001b[0m\n\u001b[1;32m    902\u001b[0m             \u001b[0;32mexcept\u001b[0m \u001b[0mKeyboardInterrupt\u001b[0m\u001b[0;34m:\u001b[0m\u001b[0;34m\u001b[0m\u001b[0;34m\u001b[0m\u001b[0m\n\u001b[1;32m    903\u001b[0m                 \u001b[0;31m# re-raise KeyboardInterrupt, to truncate traceback\u001b[0m\u001b[0;34m\u001b[0m\u001b[0;34m\u001b[0m\u001b[0;34m\u001b[0m\u001b[0m\n\u001b[0;32m--> 904\u001b[0;31m                 \u001b[0;32mraise\u001b[0m \u001b[0mKeyboardInterrupt\u001b[0m\u001b[0;34m(\u001b[0m\u001b[0;34m\"Interrupted by user\"\u001b[0m\u001b[0;34m)\u001b[0m \u001b[0;32mfrom\u001b[0m \u001b[0;32mNone\u001b[0m\u001b[0;34m\u001b[0m\u001b[0;34m\u001b[0m\u001b[0m\n\u001b[0m\u001b[1;32m    905\u001b[0m             \u001b[0;32mexcept\u001b[0m \u001b[0mException\u001b[0m \u001b[0;32mas\u001b[0m \u001b[0me\u001b[0m\u001b[0;34m:\u001b[0m\u001b[0;34m\u001b[0m\u001b[0;34m\u001b[0m\u001b[0m\n\u001b[1;32m    906\u001b[0m                 \u001b[0mself\u001b[0m\u001b[0;34m.\u001b[0m\u001b[0mlog\u001b[0m\u001b[0;34m.\u001b[0m\u001b[0mwarning\u001b[0m\u001b[0;34m(\u001b[0m\u001b[0;34m\"Invalid Message:\"\u001b[0m\u001b[0;34m,\u001b[0m \u001b[0mexc_info\u001b[0m\u001b[0;34m=\u001b[0m\u001b[0;32mTrue\u001b[0m\u001b[0;34m)\u001b[0m\u001b[0;34m\u001b[0m\u001b[0;34m\u001b[0m\u001b[0m\n",
            "\u001b[0;31mKeyboardInterrupt\u001b[0m: Interrupted by user"
          ]
        }
      ]
    }
  ]
}